{
  "metadata": {
    "accelerator": "GPU",
    "colab": {
      "provenance": []
    },
    "kernelspec": {
      "name": "python3",
      "display_name": "Python 3",
      "language": "python"
    },
    "language_info": {
      "name": "python",
      "version": "3.7.12",
      "mimetype": "text/x-python",
      "codemirror_mode": {
        "name": "ipython",
        "version": 3
      },
      "pygments_lexer": "ipython3",
      "nbconvert_exporter": "python",
      "file_extension": ".py"
    }
  },
  "nbformat_minor": 0,
  "nbformat": 4,
  "cells": [
    {
      "cell_type": "markdown",
      "source": [
        "# Intel Image Classification\n",
        "\n",
        "By: Denny Alvito Ginting\n",
        "dennyginting73@gmail.com\n",
        "\n",
        "Acknowledge:\n",
        "The dataset obtained from https://www.kaggle.com/datasets/puneet6060/intel-image-classification"
      ],
      "metadata": {
        "id": "9Y9NSc5qrfsM"
      }
    },
    {
      "cell_type": "markdown",
      "source": [
        "## Importing Libraries"
      ],
      "metadata": {
        "id": "F2I_OR6JsBBv"
      }
    },
    {
      "cell_type": "code",
      "source": [
        "import pandas as pd\n",
        "import numpy as np\n",
        "import matplotlib.pyplot as plt\n",
        "import seaborn as sns\n",
        "import os\n",
        "import datetime\n",
        "import tensorflow as tf\n",
        "import keras\n",
        "from keras.models import Sequential\n",
        "from keras.layers import Dense, Activation, Conv2D, Flatten, Dropout, MaxPooling2D, BatchNormalization, GlobalAveragePooling2D\n",
        "from keras.preprocessing.image import ImageDataGenerator\n",
        "from keras import regularizers\n",
        "from keras import optimizers\n",
        "from sklearn.metrics import f1_score\n",
        "import keras.backend as K\n",
        "from tensorflow import keras\n",
        "import warnings\n",
        "warnings.filterwarnings('ignore')\n",
        "import pathlib"
      ],
      "metadata": {
        "id": "XnmrEcxjrJbD",
        "execution": {
          "iopub.status.busy": "2022-10-27T10:40:06.731484Z",
          "iopub.execute_input": "2022-10-27T10:40:06.731843Z",
          "iopub.status.idle": "2022-10-27T10:40:06.741564Z",
          "shell.execute_reply.started": "2022-10-27T10:40:06.731812Z",
          "shell.execute_reply": "2022-10-27T10:40:06.740564Z"
        },
        "trusted": true
      },
      "execution_count": null,
      "outputs": []
    },
    {
      "cell_type": "markdown",
      "source": [
        "## Loading Dataset"
      ],
      "metadata": {
        "id": "UG81ioafubDH"
      }
    },
    {
      "cell_type": "code",
      "source": [
        "train_dir = '../input/intel-image-classification/seg_train/seg_train'\n",
        "train_classes = os.listdir(train_dir)\n",
        "train_classes"
      ],
      "metadata": {
        "colab": {
          "base_uri": "https://localhost:8080/"
        },
        "id": "S0MZgc5VuYdo",
        "outputId": "53f9e82f-c1aa-4184-e1af-b6b2d08ee440",
        "execution": {
          "iopub.status.busy": "2022-10-27T08:14:41.083442Z",
          "iopub.execute_input": "2022-10-27T08:14:41.084319Z",
          "iopub.status.idle": "2022-10-27T08:14:41.111327Z",
          "shell.execute_reply.started": "2022-10-27T08:14:41.084271Z",
          "shell.execute_reply": "2022-10-27T08:14:41.110410Z"
        },
        "trusted": true
      },
      "execution_count": null,
      "outputs": [
        {
          "execution_count": 2,
          "output_type": "execute_result",
          "data": {
            "text/plain": "['mountain', 'street', 'buildings', 'sea', 'forest', 'glacier']"
          },
          "metadata": {}
        }
      ]
    },
    {
      "cell_type": "markdown",
      "source": [
        "## Creating Generator"
      ],
      "metadata": {
        "id": "FRk_tO5o2bMm"
      }
    },
    {
      "cell_type": "code",
      "source": [
        "size = 299\n",
        "datagen = ImageDataGenerator(\n",
        "    rescale=1./255,\n",
        "    validation_split=0.2\n",
        ")\n",
        "\n",
        "train_generator = datagen.flow_from_directory(\n",
        "    directory = train_dir,\n",
        "    subset = 'training',\n",
        "    batch_size = 128,\n",
        "    seed = 42,\n",
        "    class_mode = 'categorical',\n",
        "    target_size = (size, size)\n",
        ")\n",
        "\n",
        "valid_generator=datagen.flow_from_directory(\n",
        "      directory=train_dir,\n",
        "      subset=\"validation\",\n",
        "      batch_size=128,\n",
        "      seed=42,\n",
        "      class_mode=\"categorical\",\n",
        "      target_size=(size, size)\n",
        ")"
      ],
      "metadata": {
        "colab": {
          "base_uri": "https://localhost:8080/"
        },
        "id": "mR5HjrKe1-tm",
        "outputId": "99b5c479-77f8-4700-af35-77c15d43cfdb",
        "execution": {
          "iopub.status.busy": "2022-10-27T10:58:23.347943Z",
          "iopub.execute_input": "2022-10-27T10:58:23.348761Z",
          "iopub.status.idle": "2022-10-27T10:58:35.315652Z",
          "shell.execute_reply.started": "2022-10-27T10:58:23.348726Z",
          "shell.execute_reply": "2022-10-27T10:58:35.314560Z"
        },
        "trusted": true
      },
      "execution_count": null,
      "outputs": [
        {
          "name": "stdout",
          "text": "Found 11230 images belonging to 6 classes.\nFound 2804 images belonging to 6 classes.\n",
          "output_type": "stream"
        }
      ]
    },
    {
      "cell_type": "markdown",
      "source": [
        "## Modelling"
      ],
      "metadata": {
        "id": "A-O0kXfg23xg"
      }
    },
    {
      "cell_type": "code",
      "source": [
        "tf.keras.backend.clear_session()\n",
        "backbone_model = tf.keras.applications.InceptionResNetV2(\n",
        "    include_top = False,\n",
        "    weights = 'imagenet',\n",
        "    input_shape=(size,size,3)\n",
        ")\n",
        "backbone_model.trainable = False"
      ],
      "metadata": {
        "id": "BsjkZWVZ2xEj",
        "execution": {
          "iopub.status.busy": "2022-10-27T08:37:21.231893Z",
          "iopub.execute_input": "2022-10-27T08:37:21.232594Z",
          "iopub.status.idle": "2022-10-27T08:38:23.900471Z",
          "shell.execute_reply.started": "2022-10-27T08:37:21.232559Z",
          "shell.execute_reply": "2022-10-27T08:38:23.899465Z"
        },
        "trusted": true
      },
      "execution_count": null,
      "outputs": []
    },
    {
      "cell_type": "code",
      "source": [
        "# tf.keras.backend.clear_session()\n",
        "model = Sequential([\n",
        "    backbone_model,\n",
        "    Conv2D(16, (3,3), activation='relu'),\n",
        "    MaxPooling2D(pool_size=(2,2)),\n",
        "    Flatten(),\n",
        "    Dense(16, activation='relu'),\n",
        "    Dropout(0.5),\n",
        "    Dense(6, activation='softmax')\n",
        "])"
      ],
      "metadata": {
        "id": "SgPC4g8zcSD7",
        "execution": {
          "iopub.status.busy": "2022-10-27T08:42:03.085875Z",
          "iopub.execute_input": "2022-10-27T08:42:03.086442Z",
          "iopub.status.idle": "2022-10-27T08:42:04.407278Z",
          "shell.execute_reply.started": "2022-10-27T08:42:03.086407Z",
          "shell.execute_reply": "2022-10-27T08:42:04.406319Z"
        },
        "trusted": true
      },
      "execution_count": null,
      "outputs": []
    },
    {
      "cell_type": "code",
      "source": [
        "model.summary()"
      ],
      "metadata": {
        "colab": {
          "base_uri": "https://localhost:8080/"
        },
        "id": "0bi6VM8I37S6",
        "outputId": "705b2cce-c407-4f13-d8ed-2926ccc6161f",
        "execution": {
          "iopub.status.busy": "2022-10-27T08:42:04.583405Z",
          "iopub.execute_input": "2022-10-27T08:42:04.584149Z",
          "iopub.status.idle": "2022-10-27T08:42:04.619041Z",
          "shell.execute_reply.started": "2022-10-27T08:42:04.584105Z",
          "shell.execute_reply": "2022-10-27T08:42:04.617990Z"
        },
        "trusted": true
      },
      "execution_count": null,
      "outputs": [
        {
          "name": "stdout",
          "text": "Model: \"sequential_2\"\n_________________________________________________________________\nLayer (type)                 Output Shape              Param #   \n=================================================================\ninception_resnet_v2 (Functio (None, 8, 8, 1536)        54336736  \n_________________________________________________________________\nconv2d_203 (Conv2D)          (None, 6, 6, 16)          221200    \n_________________________________________________________________\nmax_pooling2d_4 (MaxPooling2 (None, 3, 3, 16)          0         \n_________________________________________________________________\nflatten_2 (Flatten)          (None, 144)               0         \n_________________________________________________________________\ndense_4 (Dense)              (None, 16)                2320      \n_________________________________________________________________\ndropout (Dropout)            (None, 16)                0         \n_________________________________________________________________\ndense_5 (Dense)              (None, 6)                 102       \n=================================================================\nTotal params: 54,560,358\nTrainable params: 223,622\nNon-trainable params: 54,336,736\n_________________________________________________________________\n",
          "output_type": "stream"
        }
      ]
    },
    {
      "cell_type": "code",
      "source": [
        "checkpoint = tf.keras.callbacks.ModelCheckpoint('weights.hdf5', monitor= 'val_accuracy', save_best_only=True)"
      ],
      "metadata": {
        "id": "0nCzhBFl4Awu",
        "execution": {
          "iopub.status.busy": "2022-10-27T08:42:05.410466Z",
          "iopub.execute_input": "2022-10-27T08:42:05.411145Z",
          "iopub.status.idle": "2022-10-27T08:42:05.416137Z",
          "shell.execute_reply.started": "2022-10-27T08:42:05.411111Z",
          "shell.execute_reply": "2022-10-27T08:42:05.415079Z"
        },
        "trusted": true
      },
      "execution_count": null,
      "outputs": []
    },
    {
      "cell_type": "code",
      "source": [
        "model.compile(tf.keras.optimizers.Adam(),loss=\"categorical_crossentropy\",metrics=[\"accuracy\"])"
      ],
      "metadata": {
        "id": "SQGejmoP4DW5",
        "execution": {
          "iopub.status.busy": "2022-10-27T08:42:06.243900Z",
          "iopub.execute_input": "2022-10-27T08:42:06.244853Z",
          "iopub.status.idle": "2022-10-27T08:42:06.263887Z",
          "shell.execute_reply.started": "2022-10-27T08:42:06.244818Z",
          "shell.execute_reply": "2022-10-27T08:42:06.262769Z"
        },
        "trusted": true
      },
      "execution_count": null,
      "outputs": []
    },
    {
      "cell_type": "code",
      "source": [
        "history = model.fit(\n",
        "    train_generator,\n",
        "    validation_data = valid_generator,\n",
        "    epochs = 50,\n",
        "    batch_size = 32,\n",
        "    callbacks = [checkpoint],\n",
        "    verbose = 1\n",
        ")"
      ],
      "metadata": {
        "colab": {
          "base_uri": "https://localhost:8080/",
          "height": 397
        },
        "id": "w01isWsk4KCI",
        "outputId": "b7a22cb6-52aa-414d-f887-5986dbe52450",
        "execution": {
          "iopub.status.busy": "2022-10-27T08:42:06.711661Z",
          "iopub.execute_input": "2022-10-27T08:42:06.711991Z",
          "iopub.status.idle": "2022-10-27T10:31:45.801131Z",
          "shell.execute_reply.started": "2022-10-27T08:42:06.711963Z",
          "shell.execute_reply": "2022-10-27T10:31:45.800155Z"
        },
        "trusted": true
      },
      "execution_count": null,
      "outputs": [
        {
          "name": "stdout",
          "text": "Epoch 1/50\n88/88 [==============================] - 153s 2s/step - loss: 1.1066 - accuracy: 0.5309 - val_loss: 0.3424 - val_accuracy: 0.8948\n",
          "output_type": "stream"
        },
        {
          "name": "stderr",
          "text": "2022-10-27 08:44:40.985965: W tensorflow/core/framework/op_kernel.cc:1680] Invalid argument: ValueError: callback pyfunc_17 is not found\nTraceback (most recent call last):\n\n  File \"/opt/conda/lib/python3.7/site-packages/tensorflow/python/ops/script_ops.py\", line 238, in __call__\n    raise ValueError(\"callback %s is not found\" % token)\n\nValueError: callback pyfunc_17 is not found\n\n\n2022-10-27 08:44:40.986112: W tensorflow/core/kernels/data/generator_dataset_op.cc:107] Error occurred when finalizing GeneratorDataset iterator: Invalid argument: ValueError: callback pyfunc_17 is not found\nTraceback (most recent call last):\n\n  File \"/opt/conda/lib/python3.7/site-packages/tensorflow/python/ops/script_ops.py\", line 238, in __call__\n    raise ValueError(\"callback %s is not found\" % token)\n\nValueError: callback pyfunc_17 is not found\n\n\n\t [[{{node PyFunc}}]]\n",
          "output_type": "stream"
        },
        {
          "name": "stdout",
          "text": "Epoch 2/50\n88/88 [==============================] - 142s 2s/step - loss: 0.6445 - accuracy: 0.7584 - val_loss: 0.2708 - val_accuracy: 0.9073\nEpoch 3/50\n88/88 [==============================] - 144s 2s/step - loss: 0.5009 - accuracy: 0.8182 - val_loss: 0.2368 - val_accuracy: 0.9144\nEpoch 4/50\n88/88 [==============================] - 129s 1s/step - loss: 0.4408 - accuracy: 0.8477 - val_loss: 0.2315 - val_accuracy: 0.9173\nEpoch 5/50\n88/88 [==============================] - 129s 1s/step - loss: 0.4083 - accuracy: 0.8615 - val_loss: 0.2541 - val_accuracy: 0.9126\nEpoch 6/50\n88/88 [==============================] - 129s 1s/step - loss: 0.3974 - accuracy: 0.8617 - val_loss: 0.2429 - val_accuracy: 0.9190\nEpoch 7/50\n88/88 [==============================] - 129s 1s/step - loss: 0.3625 - accuracy: 0.8762 - val_loss: 0.2492 - val_accuracy: 0.9190\nEpoch 8/50\n88/88 [==============================] - 129s 1s/step - loss: 0.3594 - accuracy: 0.8771 - val_loss: 0.2469 - val_accuracy: 0.9176\nEpoch 9/50\n88/88 [==============================] - 129s 1s/step - loss: 0.3409 - accuracy: 0.8829 - val_loss: 0.2392 - val_accuracy: 0.9223\nEpoch 10/50\n88/88 [==============================] - 129s 1s/step - loss: 0.3103 - accuracy: 0.8958 - val_loss: 0.2856 - val_accuracy: 0.9233\nEpoch 11/50\n88/88 [==============================] - 129s 1s/step - loss: 0.2997 - accuracy: 0.8970 - val_loss: 0.3063 - val_accuracy: 0.9165\nEpoch 12/50\n88/88 [==============================] - 129s 1s/step - loss: 0.2926 - accuracy: 0.9000 - val_loss: 0.2867 - val_accuracy: 0.9155\nEpoch 13/50\n88/88 [==============================] - 129s 1s/step - loss: 0.3104 - accuracy: 0.8897 - val_loss: 0.3013 - val_accuracy: 0.9212\nEpoch 14/50\n88/88 [==============================] - 129s 1s/step - loss: 0.2730 - accuracy: 0.9063 - val_loss: 0.3181 - val_accuracy: 0.9194\nEpoch 15/50\n88/88 [==============================] - 129s 1s/step - loss: 0.2709 - accuracy: 0.9038 - val_loss: 0.2994 - val_accuracy: 0.9265\nEpoch 16/50\n88/88 [==============================] - 129s 1s/step - loss: 0.2488 - accuracy: 0.9144 - val_loss: 0.3127 - val_accuracy: 0.9201\nEpoch 17/50\n88/88 [==============================] - 129s 1s/step - loss: 0.2416 - accuracy: 0.9134 - val_loss: 0.3207 - val_accuracy: 0.9248\nEpoch 18/50\n88/88 [==============================] - 129s 1s/step - loss: 0.2600 - accuracy: 0.9082 - val_loss: 0.3221 - val_accuracy: 0.9098\nEpoch 19/50\n88/88 [==============================] - 130s 1s/step - loss: 0.2366 - accuracy: 0.9159 - val_loss: 0.3483 - val_accuracy: 0.9233\nEpoch 20/50\n88/88 [==============================] - 129s 1s/step - loss: 0.2383 - accuracy: 0.9159 - val_loss: 0.3414 - val_accuracy: 0.9208\nEpoch 21/50\n88/88 [==============================] - 129s 1s/step - loss: 0.2187 - accuracy: 0.9220 - val_loss: 0.3968 - val_accuracy: 0.9226\nEpoch 22/50\n88/88 [==============================] - 129s 1s/step - loss: 0.2198 - accuracy: 0.9278 - val_loss: 0.3977 - val_accuracy: 0.9112\nEpoch 23/50\n88/88 [==============================] - 129s 1s/step - loss: 0.2135 - accuracy: 0.9258 - val_loss: 0.3953 - val_accuracy: 0.9230\nEpoch 24/50\n88/88 [==============================] - 129s 1s/step - loss: 0.2154 - accuracy: 0.9239 - val_loss: 0.3828 - val_accuracy: 0.9233\nEpoch 25/50\n88/88 [==============================] - 130s 1s/step - loss: 0.2038 - accuracy: 0.9274 - val_loss: 0.4397 - val_accuracy: 0.9205\nEpoch 26/50\n88/88 [==============================] - 144s 2s/step - loss: 0.2067 - accuracy: 0.9283 - val_loss: 0.3854 - val_accuracy: 0.9233\nEpoch 27/50\n88/88 [==============================] - 130s 1s/step - loss: 0.1946 - accuracy: 0.9328 - val_loss: 0.4186 - val_accuracy: 0.9151\nEpoch 28/50\n88/88 [==============================] - 129s 1s/step - loss: 0.1919 - accuracy: 0.9298 - val_loss: 0.4346 - val_accuracy: 0.9230\nEpoch 29/50\n88/88 [==============================] - 129s 1s/step - loss: 0.1841 - accuracy: 0.9362 - val_loss: 0.4165 - val_accuracy: 0.9219\nEpoch 30/50\n88/88 [==============================] - 129s 1s/step - loss: 0.1767 - accuracy: 0.9377 - val_loss: 0.4690 - val_accuracy: 0.9180\nEpoch 31/50\n88/88 [==============================] - 129s 1s/step - loss: 0.1806 - accuracy: 0.9381 - val_loss: 0.4958 - val_accuracy: 0.9194\nEpoch 32/50\n88/88 [==============================] - 129s 1s/step - loss: 0.1785 - accuracy: 0.9370 - val_loss: 0.4582 - val_accuracy: 0.9173\nEpoch 33/50\n88/88 [==============================] - 129s 1s/step - loss: 0.1796 - accuracy: 0.9383 - val_loss: 0.5208 - val_accuracy: 0.9141\nEpoch 34/50\n88/88 [==============================] - 129s 1s/step - loss: 0.1614 - accuracy: 0.9446 - val_loss: 0.6782 - val_accuracy: 0.9062\nEpoch 35/50\n88/88 [==============================] - 129s 1s/step - loss: 0.1684 - accuracy: 0.9450 - val_loss: 0.4893 - val_accuracy: 0.9230\nEpoch 36/50\n88/88 [==============================] - 129s 1s/step - loss: 0.1536 - accuracy: 0.9464 - val_loss: 0.5545 - val_accuracy: 0.9158\nEpoch 37/50\n88/88 [==============================] - 129s 1s/step - loss: 0.1498 - accuracy: 0.9489 - val_loss: 0.5064 - val_accuracy: 0.9162\nEpoch 38/50\n88/88 [==============================] - 129s 1s/step - loss: 0.1498 - accuracy: 0.9476 - val_loss: 0.5828 - val_accuracy: 0.9173\nEpoch 39/50\n88/88 [==============================] - 129s 1s/step - loss: 0.1455 - accuracy: 0.9486 - val_loss: 0.5307 - val_accuracy: 0.9180\nEpoch 40/50\n88/88 [==============================] - 129s 1s/step - loss: 0.1541 - accuracy: 0.9469 - val_loss: 0.6005 - val_accuracy: 0.9212\nEpoch 41/50\n88/88 [==============================] - 129s 1s/step - loss: 0.1480 - accuracy: 0.9476 - val_loss: 0.5722 - val_accuracy: 0.9108\nEpoch 42/50\n88/88 [==============================] - 129s 1s/step - loss: 0.1428 - accuracy: 0.9515 - val_loss: 0.6397 - val_accuracy: 0.9083\nEpoch 43/50\n88/88 [==============================] - 129s 1s/step - loss: 0.1405 - accuracy: 0.9497 - val_loss: 0.6163 - val_accuracy: 0.9148\nEpoch 44/50\n88/88 [==============================] - 129s 1s/step - loss: 0.1317 - accuracy: 0.9524 - val_loss: 0.5983 - val_accuracy: 0.9151\nEpoch 45/50\n88/88 [==============================] - 130s 1s/step - loss: 0.1286 - accuracy: 0.9536 - val_loss: 0.6282 - val_accuracy: 0.9201\nEpoch 46/50\n88/88 [==============================] - 130s 1s/step - loss: 0.1348 - accuracy: 0.9531 - val_loss: 0.6017 - val_accuracy: 0.9205\nEpoch 47/50\n88/88 [==============================] - 130s 1s/step - loss: 0.1386 - accuracy: 0.9521 - val_loss: 0.6489 - val_accuracy: 0.9141\nEpoch 48/50\n88/88 [==============================] - 130s 1s/step - loss: 0.1340 - accuracy: 0.9555 - val_loss: 0.5972 - val_accuracy: 0.9173\nEpoch 49/50\n88/88 [==============================] - 129s 1s/step - loss: 0.1373 - accuracy: 0.9533 - val_loss: 0.6295 - val_accuracy: 0.9087\nEpoch 50/50\n88/88 [==============================] - 130s 1s/step - loss: 0.1249 - accuracy: 0.9573 - val_loss: 0.7656 - val_accuracy: 0.9126\n",
          "output_type": "stream"
        }
      ]
    },
    {
      "cell_type": "code",
      "source": [
        "fig, ax = plt.subplots(nrows = 1, ncols = 2, figsize = (12,6))\n",
        "\n",
        "ax[0].plot(history.history['accuracy'], '-', label = 'Training Accuracy')\n",
        "ax[0].plot(history.history['val_accuracy'], '-', label = 'Validation Accuracy')\n",
        "ax[0].set_xlabel('Epochs')\n",
        "ax[0].set_ylabel('Accuracy')\n",
        "ax[0].set_title('Epochs & Training Accuracy', fontsize=20)\n",
        "ax[0].legend(loc='best')\n",
        "\n",
        "ax[1].plot(history.history['loss'], '-', label = 'Training loss')\n",
        "ax[1].plot(history.history['val_loss'], '-', label = 'Validation loss')\n",
        "ax[1].set_xlabel('Epochs')\n",
        "ax[1].set_ylabel('loss')\n",
        "ax[1].set_title('Epochs & Training loss', fontsize=20)\n",
        "ax[1].legend(loc='best')\n",
        "\n",
        "plt.show()"
      ],
      "metadata": {
        "id": "6rMl3QkkdToY",
        "execution": {
          "iopub.status.busy": "2022-10-27T10:33:31.051414Z",
          "iopub.execute_input": "2022-10-27T10:33:31.051777Z",
          "iopub.status.idle": "2022-10-27T10:33:31.391789Z",
          "shell.execute_reply.started": "2022-10-27T10:33:31.051746Z",
          "shell.execute_reply": "2022-10-27T10:33:31.390192Z"
        },
        "trusted": true,
        "outputId": "e8f21b35-2c1b-4514-bd99-42598ce16146"
      },
      "execution_count": null,
      "outputs": [
        {
          "output_type": "display_data",
          "data": {
            "text/plain": "<Figure size 864x432 with 2 Axes>",
            "image/png": "[encoded data removed]"
          },
          "metadata": {
            "needs_background": "light"
          }
        }
      ]
    },
    {
      "cell_type": "markdown",
      "source": [
        "## Evaluation"
      ],
      "metadata": {
        "id": "Ry7XSN92GU9F"
      }
    },
    {
      "cell_type": "code",
      "source": [
        "model.load_weights('weights.hdf5')"
      ],
      "metadata": {
        "execution": {
          "iopub.status.busy": "2022-10-27T10:35:05.243180Z",
          "iopub.execute_input": "2022-10-27T10:35:05.243547Z",
          "iopub.status.idle": "2022-10-27T10:35:06.106139Z",
          "shell.execute_reply.started": "2022-10-27T10:35:05.243517Z",
          "shell.execute_reply": "2022-10-27T10:35:06.105085Z"
        },
        "trusted": true,
        "id": "l3huRXBFGU9F"
      },
      "execution_count": null,
      "outputs": []
    },
    {
      "cell_type": "code",
      "source": [
        "model.evaluate(valid_generator)"
      ],
      "metadata": {
        "execution": {
          "iopub.status.busy": "2022-10-27T10:35:08.647139Z",
          "iopub.execute_input": "2022-10-27T10:35:08.647490Z",
          "iopub.status.idle": "2022-10-27T10:35:35.477673Z",
          "shell.execute_reply.started": "2022-10-27T10:35:08.647460Z",
          "shell.execute_reply": "2022-10-27T10:35:35.476564Z"
        },
        "trusted": true,
        "id": "qhlj-sO9GU9G",
        "outputId": "c9ca5691-f2e8-4dc9-fc66-1511a1a330ca"
      },
      "execution_count": null,
      "outputs": [
        {
          "name": "stdout",
          "text": "22/22 [==============================] - 26s 1s/step - loss: 0.2994 - accuracy: 0.9265\n",
          "output_type": "stream"
        },
        {
          "execution_count": 54,
          "output_type": "execute_result",
          "data": {
            "text/plain": "[0.29940158128738403, 0.9265335202217102]"
          },
          "metadata": {}
        }
      ]
    },
    {
      "cell_type": "markdown",
      "source": [
        "> By taking the best weight after training our model, our model can achieve a high score on validation data (92.6%)"
      ],
      "metadata": {
        "id": "rfwzrGY4GU9H"
      }
    },
    {
      "cell_type": "markdown",
      "source": [
        "## Deployment"
      ],
      "metadata": {
        "id": "_WG0jBzoGU9H"
      }
    },
    {
      "cell_type": "code",
      "source": [
        "# Saving Model\n",
        "export_directory = 'saved_model/'\n",
        "tf.saved_model.save(model, export_directory)\n",
        "\n",
        "# Converting to vegs.tflite\n",
        "converter = tf.lite.TFLiteConverter.from_saved_model(export_directory)\n",
        "tflite_model = converter.convert()\n",
        "\n",
        "# Deploy\n",
        "tflite_file = pathlib.Path('vegs.tflite')\n",
        "tflite_file.write_bytes(tflite_model)"
      ],
      "metadata": {
        "execution": {
          "iopub.status.busy": "2022-10-27T10:40:59.952500Z",
          "iopub.execute_input": "2022-10-27T10:40:59.952853Z",
          "iopub.status.idle": "2022-10-27T10:43:34.645270Z",
          "shell.execute_reply.started": "2022-10-27T10:40:59.952823Z",
          "shell.execute_reply": "2022-10-27T10:43:34.644229Z"
        },
        "trusted": true,
        "id": "kNfzsbLfGU9H",
        "outputId": "55113023-593e-4148-94fd-99a4a54e8888"
      },
      "execution_count": null,
      "outputs": [
        {
          "name": "stderr",
          "text": "2022-10-27 10:41:40.414924: W tensorflow/python/util/util.cc:348] Sets are not currently considered sequences, but this may change in the future, so consider avoiding using them.\n2022-10-27 10:43:22.894066: W tensorflow/compiler/mlir/lite/python/tf_tfl_flatbuffer_helpers.cc:351] Ignored output_format.\n2022-10-27 10:43:22.894114: W tensorflow/compiler/mlir/lite/python/tf_tfl_flatbuffer_helpers.cc:354] Ignored drop_control_dependency.\n2022-10-27 10:43:22.894131: W tensorflow/compiler/mlir/lite/python/tf_tfl_flatbuffer_helpers.cc:360] Ignored change_concat_input_ranges.\n2022-10-27 10:43:22.896812: I tensorflow/cc/saved_model/reader.cc:38] Reading SavedModel from: saved_model/\n2022-10-27 10:43:23.083199: I tensorflow/cc/saved_model/reader.cc:90] Reading meta graph with tags { serve }\n2022-10-27 10:43:23.084933: I tensorflow/cc/saved_model/reader.cc:132] Reading SavedModel debug info (if present) from: saved_model/\n2022-10-27 10:43:23.916336: I tensorflow/cc/saved_model/loader.cc:229] Restoring SavedModel bundle.\n2022-10-27 10:43:26.289537: I tensorflow/cc/saved_model/loader.cc:213] Running initialization op on SavedModel bundle at path: saved_model/\n2022-10-27 10:43:26.997492: I tensorflow/cc/saved_model/loader.cc:301] SavedModel load for tags { serve }; Status: success: OK. Took 4100684 microseconds.\n2022-10-27 10:43:29.550831: I tensorflow/compiler/mlir/tensorflow/utils/dump_mlir_util.cc:210] disabling MLIR crash reproducer, set env var `MLIR_CRASH_REPRODUCER_DIRECTORY` to enable.\n",
          "output_type": "stream"
        },
        {
          "execution_count": 57,
          "output_type": "execute_result",
          "data": {
            "text/plain": "218182536"
          },
          "metadata": {}
        }
      ]
    },
    {
      "cell_type": "code",
      "source": [],
      "metadata": {
        "id": "T2KKS2vkGU9I"
      },
      "execution_count": null,
      "outputs": []
    }
  ]
}